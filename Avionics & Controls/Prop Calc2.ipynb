{
 "cells": [
  {
   "cell_type": "markdown",
   "metadata": {},
   "source": [
    "## Imports"
   ]
  },
  {
   "cell_type": "code",
   "execution_count": 8,
   "metadata": {},
   "outputs": [],
   "source": [
    "#py -m pip install ____\n",
    "#py -m jupyterlab\n",
    "import csv\n",
    "import pandas as pd\n",
    "import numpy as np\n",
    "import matplotlib.pyplot as plt\n",
    "\n",
    "\n"
   ]
  },
  {
   "cell_type": "markdown",
   "metadata": {},
   "source": [
    "## Ore's Cleanup Code"
   ]
  },
  {
   "cell_type": "code",
   "execution_count": 4,
   "metadata": {},
   "outputs": [
    {
     "name": "stdin",
     "output_type": "stream",
     "text": [
      "Paste .dat file location :  C:\\Users\\aniru\\Downloads\\PER3_10x10 (2).dat\n",
      "Paste desired destination file path(filepath/filename.csv) :  C:\\Users\\aniru\\Desktop\\hope.csv\n"
     ]
    },
    {
     "name": "stdout",
     "output_type": "stream",
     "text": [
      "Conversion complete. Data saved to C:\\Users\\aniru\\Desktop\\hope.csv\n",
      "Cleaned data saved to C:\\Users\\aniru\\Desktop\\hope.csv\n"
     ]
    }
   ],
   "source": [
    "#Borrowed from Ore cuz he's super cool\n",
    "\n",
    "# Define custom headers and units globally\n",
    "custom_header = [\"V\", \"J\", \"Pe\", \"Ct\", \"Cp\", \"PWR\", \"Torque\", \"Thrust\", \"PWR\", \"Torque\", \"Thrust\", \"THR/PWR\", \"Mach\", \"Reyn\", \"FOM\"]\n",
    "units = [\"(mph)\", \"(Adv_Ratio)\", \"-\", \"-\", \"-\", \"(Hp)\", \"(In-Lbf)\", \"(Lbf)\", \"(W)\", \"(N-m)\", \"(N)\", \"(g/W)\", \"-\", \"-\", \"-\"]\n",
    "\n",
    "\n",
    "def convert_dat_to_csv_with_custom_header(dat_file_path, csv_file_path):\n",
    "    with open(dat_file_path, 'r') as dat_file, open(csv_file_path, 'w', newline='') as csv_file:\n",
    "        csv_writer = csv.writer(csv_file)\n",
    "\n",
    "        csv_writer.writerow(custom_header)\n",
    "        csv_writer.writerow(units)\n",
    "\n",
    "        # Define criteria for lines to skip\n",
    "        header_str = ' '.join(custom_header)\n",
    "        units_str = ' '.join(units)\n",
    "\n",
    "        # Read Lines\n",
    "        for line in dat_file:\n",
    "            # Strip whitespace from the line and check if header and units are repeated\n",
    "            if line.strip() == header_str or line.strip() == units_str:\n",
    "                continue  # Skip this line if it matches either the header or units\n",
    "\n",
    "            # write the line to the CSV\n",
    "            row = line.strip().split()\n",
    "            csv_writer.writerow(row)\n",
    "\n",
    "    print(f\"Conversion complete. Data saved to {csv_file_path}\")\n",
    "\n",
    "dat_file_path = input(\"Paste .dat file location : \")\n",
    "csv_file_path = input(\"Paste desired destination file path(filepath/filename.csv) : \")\n",
    "convert_dat_to_csv_with_custom_header(dat_file_path, csv_file_path)\n",
    "\n",
    "# Load the new CSV into a DataFrame\n",
    "df = pd.read_csv(csv_file_path, header=None)\n",
    "\n",
    "# Separate the first two rows\n",
    "first_two_rows = df.iloc[1:2].copy()  \n",
    "\n",
    "# Remove any rows that match either the custom header or units by converting each row to a string\n",
    "# It will end up being read as a null space and be removed\n",
    "remaining_rows = df.iloc[2:]\n",
    "filtered_rows = remaining_rows[~remaining_rows.apply(\n",
    "    lambda row: ' '.join(map(str, row.values)) in [' '.join(custom_header), ' '.join(units)],\n",
    "    axis=1\n",
    ")]\n",
    "\n",
    "# Concatenate the second rows back with the filtered data\n",
    "df_cleaned = pd.concat([first_two_rows, filtered_rows], ignore_index=True)\n",
    "\n",
    "# Rename columns based on the custom header\n",
    "df_cleaned.columns = [\"V(mph)\", \"J(Adv_Ratio)\", \"Pe\", \"Ct\", \"Cp\", \"PWR(Hp)\", \"Torque(In-Lbf)\", \"Thrust(Lbf)\", \"PWR(W)\", \"Torque(N-m)\", \"Thrust(N)\", \"THR/PWR(g/W)\", \"Mach\", \"Reyn\", \"FOM\"]\n",
    "# null check\n",
    "#df_cleaned.dropna(axis=1, how='all', inplace=True)\n",
    "\n",
    "# Save the cleaned DataFrame to a new CSV file\n",
    "cleaned_csv_path = csv_file_path  # Adjust the path as needed\n",
    "df_cleaned.to_csv(cleaned_csv_path, index=False)\n",
    "print(f\"Cleaned data saved to {cleaned_csv_path}\")\n",
    "#x=input('Input X axis \\n[\"V(mph)\", \"J(Adv_Ratio)\", \"Pe\", \"Ct\", \"Cp\", \"PWR(Hp)\", \"Torque(In-Lbf)\", \"Thrust(Lbf)\", \"PWR(W)\", \"Torque(N-m)\", \"Thrust(N)\", \"THR/PWR(g/W)\", \"Mach\", \"Reyn\", \"FOM\"] : ')\n",
    "#y=input('Input Y axis \\n[\"V(mph)\", \"J(Adv_Ratio)\", \"Pe\", \"Ct\", \"Cp\", \"PWR(Hp)\", \"Torque(In-Lbf)\", \"Thrust(Lbf)\", \"PWR(W)\", \"Torque(N-m)\", \"Thrust(N)\", \"THR/PWR(g/W)\", \"Mach\", \"Reyn\", \"FOM\"] : ')\n",
    "#z=input('Input Z axis \\n[1000, 2000, 3000, 4000, 5000, 6000, 7000, 8000, 9000, 10000, 11000, 12000, 13000, 14000, 15000, 16000, 17000, 18000, 19000, 20000] : ')\n",
    "\n",
    "df = pd.read_csv(cleaned_csv_path)\n",
    "#Ct = df.iloc[:, 3]  # Assuming the RPM values are in the 3rd column (Ct)\n",
    "#df['RPM'] = Ct  # Create an 'RPM' column in df for filtering convenience\n",
    "column_map = {\n",
    "    \"V(mph)\": \"V(mph)\",\n",
    "    \"J(Adv_Ratio)\": \"J(Adv_Ratio)\",\n",
    "    \"Pe\": \"Pe\",\n",
    "    \"Ct\": \"Ct\",\n",
    "    \"Cp\": \"Cp\",\n",
    "    \"PWR(Hp)\": \"PWR(Hp)\",\n",
    "    \"Torque(In-Lbf)\": \"Torque(In-Lbf)\",\n",
    "    \"Thrust(Lbf)\": \"Thrust(Lbf)\",\n",
    "    \"PWR(W)\": \"PWR(W)\",\n",
    "    \"Torque(N-m)\": \"Torque(N-m)\",\n",
    "    \"Thrust(N)\": \"Thrust(N)\",\n",
    "    \"THR/PWR(g/W)\": \"THR/PWR(g/W)\",\n",
    "    \"Mach\": \"Mach\",\n",
    "    \"Reyn\": \"Reyn\",\n",
    "    \"FOM\": \"FOM\"\n",
    "}"
   ]
  },
  {
   "cell_type": "markdown",
   "metadata": {},
   "source": [
    "## Accessing the File through Pandas"
   ]
  },
  {
   "cell_type": "code",
   "execution_count": 17,
   "metadata": {},
   "outputs": [],
   "source": [
    "filename = 'C:/Users/aniru/Desktop/PER3_10x10.csv' #input file path here\n",
    "df = pd.read_csv(cleaned_csv_path)\n",
    "\n",
    "#Run this if needed to check on data in Pandas\n",
    "#print(df.to_string()) "
   ]
  },
  {
   "cell_type": "markdown",
   "metadata": {},
   "source": [
    "## Grabbing Relavent Data from APC Prop .dat/.csv File"
   ]
  },
  {
   "cell_type": "code",
   "execution_count": 67,
   "metadata": {},
   "outputs": [
    {
     "name": "stdout",
     "output_type": "stream",
     "text": [
      "RPM: \t\tRow: \t\tThrust:  N\tTorque:  N-m\n",
      "6000\t\t171\t\t6.936\t\t0.147 \n",
      "7000\t\t202\t\t9.452\t\t0.197 \n",
      "8000\t\t233\t\t12.360\t\t0.256 \n",
      "9000\t\t264\t\t15.663\t\t0.322 \n",
      "10000\t\t295\t\t19.361\t\t0.396 \n",
      "11000\t\t326\t\t23.458\t\t0.478 \n"
     ]
    }
   ],
   "source": [
    "thrust_req = 6.25 #25/4\n",
    "torque_req = .5 #Find KDE motor that fits here; put in KDE motor's torque req\n",
    "\n",
    "print(f'RPM: \\t\\tRow: \\t\\tThrust:  N\\tTorque:  N-m')\n",
    "for row in df.itertuples(): \n",
    "    thrust_data = row[11]    \n",
    "    torque_data = row[10]    \n",
    "\n",
    "\n",
    "\n",
    "    try:\n",
    "        if ((row[1]) == 'PROP'):\n",
    "            RPMVal = row[4]\n",
    "            #print(RPMVal)\n",
    "        if (float(row[2]) == 0 and float(thrust_data) >= thrust_req and float(torque_data) <= torque_req):  \n",
    "            print(f'{RPMVal}\\t\\t{row.Index}\\t\\t{thrust_data}\\t\\t{torque_data} ') \n",
    "    except:\n",
    "        pass\n",
    "        #print(f\"{row.Index} This is a word\") #Just wont show Nan as well\n",
    "    \n"
   ]
  },
  {
   "cell_type": "markdown",
   "metadata": {},
   "source": [
    "## Getting Custom Throttle Information based on KDE Data ##"
   ]
  },
  {
   "cell_type": "code",
   "execution_count": 66,
   "metadata": {},
   "outputs": [
    {
     "name": "stdout",
     "output_type": "stream",
     "text": [
      "Approximate throttle value for propeller size 10\" spinning at 6000 rpm is 63.66%\n"
     ]
    }
   ],
   "source": [
    "Throttle = [25, 37.5, 50, 62.5, 75, 87.5, 100]\n",
    "\n",
    "Prop_Size_Test = 10 #Propeller test size from APC (size x pitch)\n",
    "Prop_Size_1 = 12.5 #from KDE\n",
    "Prop_Size_2 = 15.5 #from KDE\n",
    "Prop_Size_3 = 18.5 #from KDE\n",
    "\n",
    "apc_rpm = 6000 #Put in APC rpm found from previous section #TODO: automate this from previous values later\n",
    "\n",
    "#prop values are debug values\n",
    "if abs(Prop_Size_Test - Prop_Size_1) <= abs(Prop_Size_Test - Prop_Size_2):\n",
    "    kde_rpm = [3760, 4700, 5370, 5920, 6780, 7810, 8510] #Will have to update for different motor\n",
    "    prop = 1\n",
    "elif abs(Prop_Size_Test - Prop_Size_1) > abs(Prop_Size_Test - Prop_Size_2):\n",
    "    kde_rpm = [2690, 3490, 4330, 5110, 5820, 6500, 7040] #Will have to update for different motor\n",
    "    prop = 2\n",
    "elif abs(Prop_Size_Test - Prop_Size_2) <= abs(Prop_Size_Test - Prop_Size_3):\n",
    "    kde_rpm = [2690, 3490, 4330, 5110, 5820, 6500, 7040] #Will have to update for different motor\n",
    "    prop = 2\n",
    "elif abs(Prop_Size_Test - Prop_Size_2) > abs(Prop_Size_Test - Prop_Size_3):\n",
    "    kde_rpm = [2350, 3170, 3900, 4550, 5200, 5690, 6130] #Will have to update for different motor\n",
    "    prop = 3\n",
    "else:\n",
    "    print(\"XD\")\n",
    " \n",
    "\n",
    "Custom_Throttle = np.interp(apc_rpm, kde_rpm, Throttle)\n",
    "print(f'Approximate throttle value for propeller size {Prop_Size_Test}\\\" spinning at {apc_rpm} rpm is {Custom_Throttle:.02f}%')\n",
    "\n",
    "#print(f'Debug: Utiliized prop value {prop} in KDE website')\n",
    "\n"
   ]
  },
  {
   "cell_type": "code",
   "execution_count": null,
   "metadata": {},
   "outputs": [],
   "source": []
  }
 ],
 "metadata": {
  "kernelspec": {
   "display_name": "Python 3 (ipykernel)",
   "language": "python",
   "name": "python3"
  },
  "language_info": {
   "codemirror_mode": {
    "name": "ipython",
    "version": 3
   },
   "file_extension": ".py",
   "mimetype": "text/x-python",
   "name": "python",
   "nbconvert_exporter": "python",
   "pygments_lexer": "ipython3",
   "version": "3.12.4"
  }
 },
 "nbformat": 4,
 "nbformat_minor": 4
}
