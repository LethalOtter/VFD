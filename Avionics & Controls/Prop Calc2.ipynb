{
 "cells": [
  {
   "cell_type": "markdown",
   "metadata": {},
   "source": [
    "## Imports"
   ]
  },
  {
   "cell_type": "code",
   "execution_count": 1,
   "metadata": {},
   "outputs": [],
   "source": [
    "#py -m pip install ____\n",
    "#py -m jupyterlab\n",
    "import csv\n",
    "import pandas as pd\n",
    "import numpy as np\n",
    "import matplotlib.pyplot as plt\n",
    "\n",
    "\n"
   ]
  },
  {
   "cell_type": "markdown",
   "metadata": {},
   "source": [
    "## Ore's Cleanup Code"
   ]
  },
  {
   "cell_type": "code",
   "execution_count": 198,
   "metadata": {},
   "outputs": [
    {
     "name": "stdout",
     "output_type": "stream",
     "text": [
      "Conversion complete. Data saved to C:\\Users\\aniru\\Desktop\\Converted\\22x8Convert.csv\n",
      "Cleaned data saved to C:\\Users\\aniru\\Desktop\\Converted\\22x8Convert.csv\n"
     ]
    }
   ],
   "source": [
    "#Borrowed from Ore cuz he's super cool\n",
    "\n",
    "# Define custom headers and units globally\n",
    "custom_header = [\"V\", \"J\", \"Pe\", \"Ct\", \"Cp\", \"PWR\", \"Torque\", \"Thrust\", \"PWR\", \"Torque\", \"Thrust\", \"THR/PWR\", \"Mach\", \"Reyn\", \"FOM\"]\n",
    "units = [\"(mph)\", \"(Adv_Ratio)\", \"-\", \"-\", \"-\", \"(Hp)\", \"(In-Lbf)\", \"(Lbf)\", \"(W)\", \"(N-m)\", \"(N)\", \"(g/W)\", \"-\", \"-\", \"-\"]\n",
    "\n",
    "\n",
    "def convert_dat_to_csv_with_custom_header(dat_file_path, csv_file_path):\n",
    "    with open(dat_file_path, 'r') as dat_file, open(csv_file_path, 'w', newline='') as csv_file:\n",
    "        csv_writer = csv.writer(csv_file)\n",
    "\n",
    "        csv_writer.writerow(custom_header)\n",
    "        csv_writer.writerow(units)\n",
    "\n",
    "        # Define criteria for lines to skip\n",
    "        header_str = ' '.join(custom_header)\n",
    "        units_str = ' '.join(units)\n",
    "\n",
    "        # Read Lines\n",
    "        for line in dat_file:\n",
    "            # Strip whitespace from the line and check if header and units are repeated\n",
    "            if line.strip() == header_str or line.strip() == units_str:\n",
    "                continue  # Skip this line if it matches either the header or units\n",
    "\n",
    "            # write the line to the CSV\n",
    "            row = line.strip().split()\n",
    "            csv_writer.writerow(row)\n",
    "\n",
    "    print(f\"Conversion complete. Data saved to {csv_file_path}\")\n",
    "\n",
    "dat_file_path = input(\"Paste .dat file location : \")\n",
    "csv_file_path = input(\"Paste desired destination file path(filepath/filename.csv) : \")\n",
    "convert_dat_to_csv_with_custom_header(dat_file_path, csv_file_path)\n",
    "\n",
    "# Load the new CSV into a DataFrame\n",
    "df = pd.read_csv(csv_file_path, header=None)\n",
    "\n",
    "# Separate the first two rows\n",
    "first_two_rows = df.iloc[1:2].copy()  \n",
    "\n",
    "# Remove any rows that match either the custom header or units by converting each row to a string\n",
    "# It will end up being read as a null space and be removed\n",
    "remaining_rows = df.iloc[2:]\n",
    "filtered_rows = remaining_rows[~remaining_rows.apply(\n",
    "    lambda row: ' '.join(map(str, row.values)) in [' '.join(custom_header), ' '.join(units)],\n",
    "    axis=1\n",
    ")]\n",
    "\n",
    "# Concatenate the second rows back with the filtered data\n",
    "df_cleaned = pd.concat([first_two_rows, filtered_rows], ignore_index=True)\n",
    "\n",
    "# Rename columns based on the custom header\n",
    "df_cleaned.columns = [\"V(mph)\", \"J(Adv_Ratio)\", \"Pe\", \"Ct\", \"Cp\", \"PWR(Hp)\", \"Torque(In-Lbf)\", \"Thrust(Lbf)\", \"PWR(W)\", \"Torque(N-m)\", \"Thrust(N)\", \"THR/PWR(g/W)\", \"Mach\", \"Reyn\", \"FOM\"]\n",
    "# null check\n",
    "#df_cleaned.dropna(axis=1, how='all', inplace=True)\n",
    "\n",
    "# Save the cleaned DataFrame to a new CSV file\n",
    "cleaned_csv_path = csv_file_path  # Adjust the path as needed\n",
    "df_cleaned.to_csv(cleaned_csv_path, index=False)\n",
    "print(f\"Cleaned data saved to {cleaned_csv_path}\")\n",
    "#x=input('Input X axis \\n[\"V(mph)\", \"J(Adv_Ratio)\", \"Pe\", \"Ct\", \"Cp\", \"PWR(Hp)\", \"Torque(In-Lbf)\", \"Thrust(Lbf)\", \"PWR(W)\", \"Torque(N-m)\", \"Thrust(N)\", \"THR/PWR(g/W)\", \"Mach\", \"Reyn\", \"FOM\"] : ')\n",
    "#y=input('Input Y axis \\n[\"V(mph)\", \"J(Adv_Ratio)\", \"Pe\", \"Ct\", \"Cp\", \"PWR(Hp)\", \"Torque(In-Lbf)\", \"Thrust(Lbf)\", \"PWR(W)\", \"Torque(N-m)\", \"Thrust(N)\", \"THR/PWR(g/W)\", \"Mach\", \"Reyn\", \"FOM\"] : ')\n",
    "#z=input('Input Z axis \\n[1000, 2000, 3000, 4000, 5000, 6000, 7000, 8000, 9000, 10000, 11000, 12000, 13000, 14000, 15000, 16000, 17000, 18000, 19000, 20000] : ')\n",
    "\n",
    "df = pd.read_csv(cleaned_csv_path)\n",
    "#Ct = df.iloc[:, 3]  # Assuming the RPM values are in the 3rd column (Ct)\n",
    "#df['RPM'] = Ct  # Create an 'RPM' column in df for filtering convenience\n",
    "column_map = {\n",
    "    \"V(mph)\": \"V(mph)\",\n",
    "    \"J(Adv_Ratio)\": \"J(Adv_Ratio)\",\n",
    "    \"Pe\": \"Pe\",\n",
    "    \"Ct\": \"Ct\",\n",
    "    \"Cp\": \"Cp\",\n",
    "    \"PWR(Hp)\": \"PWR(Hp)\",\n",
    "    \"Torque(In-Lbf)\": \"Torque(In-Lbf)\",\n",
    "    \"Thrust(Lbf)\": \"Thrust(Lbf)\",\n",
    "    \"PWR(W)\": \"PWR(W)\",\n",
    "    \"Torque(N-m)\": \"Torque(N-m)\",\n",
    "    \"Thrust(N)\": \"Thrust(N)\",\n",
    "    \"THR/PWR(g/W)\": \"THR/PWR(g/W)\",\n",
    "    \"Mach\": \"Mach\",\n",
    "    \"Reyn\": \"Reyn\",\n",
    "    \"FOM\": \"FOM\"\n",
    "}"
   ]
  },
  {
   "cell_type": "markdown",
   "metadata": {},
   "source": [
    "## Accessing the File through Pandas"
   ]
  },
  {
   "cell_type": "code",
   "execution_count": 118,
   "metadata": {},
   "outputs": [
    {
     "name": "stdout",
     "output_type": "stream",
     "text": [
      "Successfully accessed\n"
     ]
    }
   ],
   "source": [
    "filename = \"C:/Users/aniru/Desktop/Converted/15x55Convert.csv\" #input file path here\n",
    "df = pd.read_csv(filename) #change back to cleaned_csv_path after all have been found\n",
    "\n",
    "#Run this if needed to check on data in Pandas\n",
    "#print(df.to_string()) \n",
    "print(\"Successfully accessed\")"
   ]
  },
  {
   "cell_type": "markdown",
   "metadata": {},
   "source": [
    "## Grabbing Relavent Data from APC Prop .dat/.csv File"
   ]
  },
  {
   "cell_type": "code",
   "execution_count": null,
   "metadata": {},
   "outputs": [
    {
     "name": "stdout",
     "output_type": "stream",
     "text": [
      "RPM: \t\tRow: \t\tThrust:  Lbf\tTorque:  N-m\n",
      "7000\t\t202\t\t6.899\t\t0.577 \n",
      "8000\t\t233\t\t9.079\t\t0.756 \n"
     ]
    }
   ],
   "source": [
    "thrust_req = 6.25 #25/4\n",
    "torque_req = 1.84 #Find KDE motor that fits here; put in KDE motor's torque req\n",
    "\n",
    "print(f'RPM: \\t\\tRow: \\t\\tThrust:  Lbf\\tTorque:  N-m')\n",
    "for row in df.itertuples(): \n",
    "    thrust_data = row[8]    \n",
    "    torque_data = row[10]    \n",
    "\n",
    "\n",
    "\n",
    "    try:\n",
    "        if ((row[1]) == 'PROP'):\n",
    "            RPMVal = row[4]\n",
    "            #print(RPMVal)\n",
    "        if (float(row[2]) == 0 and float(thrust_data) >= thrust_req and float(torque_data) <= torque_req):  \n",
    "            print(f'{RPMVal}\\t\\t{row.Index}\\t\\t{thrust_data}\\t\\t{torque_data} ') \n",
    "    except:\n",
    "        pass\n",
    "        #print(f\"{row.Index} This is a word\") #Just wont show Nan as well\n",
    "    \n"
   ]
  },
  {
   "cell_type": "markdown",
   "metadata": {},
   "source": [
    "## NEW Nintendo 3DS XL ##"
   ]
  },
  {
   "cell_type": "code",
   "execution_count": 199,
   "metadata": {},
   "outputs": [
    {
     "name": "stdout",
     "output_type": "stream",
     "text": [
      "18x5.5MR\n",
      "RPM: \t\tRow: \t\tThrust:  Lbf\tTorque:  N-m\n",
      "6000\t\t171\t\t8.911\t\t0.828 \n",
      "7000\t\t202\t\t12.247\t\t1.129 \n",
      "8000\t\t233\t\t16.183\t\t1.484 \n",
      "\n",
      "18x6W\n",
      "RPM: \t\tRow: \t\tThrust:  Lbf\tTorque:  N-m\n",
      "6000\t\t171\t\t8.524\t\t0.805 \n",
      "7000\t\t202\t\t11.741\t\t1.095 \n",
      "8000\t\t233\t\t15.555\t\t1.440 \n",
      "\n",
      "18x8\n",
      "RPM: \t\tRow: \t\tThrust:  Lbf\tTorque:  N-m\n",
      "6000\t\t171\t\t8.911\t\t0.859 \n",
      "7000\t\t202\t\t12.259\t\t1.169 \n",
      "8000\t\t233\t\t16.217\t\t1.537 \n",
      "\n",
      "18x8E\n",
      "RPM: \t\tRow: \t\tThrust:  Lbf\tTorque:  N-m\n",
      "5000\t\t140\t\t6.585\t\t0.652 \n",
      "6000\t\t171\t\t9.559\t\t0.936 \n",
      "7000\t\t202\t\t13.139\t\t1.277 \n",
      "8000\t\t233\t\t17.364\t\t1.681 \n",
      "\n",
      "18x8W\n",
      "RPM: \t\tRow: \t\tThrust:  Lbf\tTorque:  N-m\n",
      "5000\t\t140\t\t7.350\t\t0.768 \n",
      "6000\t\t171\t\t10.683\t\t1.102 \n",
      "7000\t\t202\t\t14.703\t\t1.505 \n",
      "\n",
      "19x8E\n",
      "RPM: \t\tRow: \t\tThrust:  Lbf\tTorque:  N-m\n",
      "5000\t\t140\t\t7.874\t\t0.801 \n",
      "6000\t\t171\t\t11.444\t\t1.152 \n",
      "7000\t\t202\t\t15.752\t\t1.575 \n",
      "\n",
      "19x8W\n",
      "RPM: \t\tRow: \t\tThrust:  Lbf\tTorque:  N-m\n",
      "5000\t\t140\t\t8.816\t\t0.948 \n",
      "6000\t\t171\t\t12.829\t\t1.363 \n",
      "\n",
      "20x8\n",
      "RPM: \t\tRow: \t\tThrust:  Lbf\tTorque:  N-m\n",
      "5000\t\t140\t\t8.839\t\t0.918 \n",
      "6000\t\t171\t\t12.880\t\t1.320 \n",
      "7000\t\t202\t\t17.788\t\t1.808 \n",
      "\n",
      "20x8E\n",
      "RPM: \t\tRow: \t\tThrust:  Lbf\tTorque:  N-m\n",
      "5000\t\t140\t\t9.235\t\t0.964 \n",
      "6000\t\t171\t\t13.440\t\t1.388 \n",
      "\n",
      "20x8W\n",
      "RPM: \t\tRow: \t\tThrust:  Lbf\tTorque:  N-m\n",
      "4000\t\t109\t\t6.683\t\t0.754 \n",
      "5000\t\t140\t\t10.543\t\t1.169 \n",
      "6000\t\t171\t\t15.365\t\t1.685 \n",
      "\n",
      "22x8\n",
      "RPM: \t\tRow: \t\tThrust:  Lbf\tTorque:  N-m\n",
      "4000\t\t109\t\t7.733\t\t0.865 \n",
      "5000\t\t140\t\t12.229\t\t1.340 \n",
      "\n"
     ]
    }
   ],
   "source": [
    "thrust_req = 6.25 #25/4\n",
    "torque_req = 1.84 #Find KDE motor that fits here; put in KDE motor's torque req\n",
    "\n",
    "filename = [\"C:/Users/aniru/Desktop/Converted/18x55MRConvert.csv\",\n",
    "            \"C:/Users/aniru/Desktop/Converted/18x6WConvert.csv\",\n",
    "            \"C:/Users/aniru/Desktop/Converted/18x8Convert.csv\",\n",
    "            \"C:/Users/aniru/Desktop/Converted/18x8EConvert.csv\",\n",
    "            \"C:/Users/aniru/Desktop/Converted/18x8WConvert.csv\",\n",
    "            \"C:/Users/aniru/Desktop/Converted/19x8EConvert.csv\",\n",
    "            \"C:/Users/aniru/Desktop/Converted/19x8WConvert.csv\",\n",
    "            \"C:/Users/aniru/Desktop/Converted/20x8Convert.csv\",\n",
    "            \"C:/Users/aniru/Desktop/Converted/20x8EConvert.csv\",\n",
    "            \"C:/Users/aniru/Desktop/Converted/20x8WConvert.csv\",\n",
    "            \"C:/Users/aniru/Desktop/Converted/22x8Convert.csv\"] #input file path here\n",
    "\n",
    "\n",
    "\n",
    "for name in filename:\n",
    "    df = pd.read_csv(name) #change back to cleaned_csv_path after all have been found\n",
    "    testprint = df.iloc[1,0]\n",
    "    print(testprint + \"\")\n",
    "    print(f'RPM: \\t\\tRow: \\t\\tThrust:  Lbf\\tTorque:  N-m')\n",
    "\n",
    "    for row in df.itertuples(): \n",
    "        thrust_data = row[8]    \n",
    "        torque_data = row[10]    \n",
    "        \n",
    "    \n",
    "\n",
    "        try:\n",
    "            if ((row[1]) == 'PROP'):\n",
    "                RPMVal = row[4]\n",
    "                #print(RPMVal)\n",
    "            if (float(row[2]) == 0 and float(thrust_data) >= thrust_req and float(torque_data) <= torque_req):  \n",
    "                print(f'{RPMVal}\\t\\t{row.Index}\\t\\t{thrust_data}\\t\\t{torque_data} ')\n",
    "                \n",
    "        except:\n",
    "            pass\n",
    "            #print(f\"{row.Index} This is a word\") #Just wont show Nan as well\n",
    "    print()\n",
    "\n",
    "\n"
   ]
  },
  {
   "cell_type": "markdown",
   "metadata": {},
   "source": [
    "## Getting Custom Throttle Information based on KDE Data ##"
   ]
  },
  {
   "cell_type": "code",
   "execution_count": 205,
   "metadata": {},
   "outputs": [
    {
     "name": "stdout",
     "output_type": "stream",
     "text": [
      "Approximate throttle value for propeller size 22\" spinning at 4000 rpm is 55.96%\n",
      "Debug: Utiliized prop value 2 in KDE website\n"
     ]
    }
   ],
   "source": [
    "Throttle = [25, 37.5, 50, 62.5, 75, 87.5, 100]\n",
    "\n",
    "Prop_Size_Test = 22 #Propeller test size from APC (size x pitch)\n",
    "\n",
    "Prop_Size_1 = 18.5 #from KDE\n",
    "Prop_Size_2 = 21.5 #from KDE\n",
    "#Prop_Size_3 = 24.5 #from KDE\n",
    "\n",
    "apc_rpm = 4000 #Put in APC rpm found from previous section #TODO: automate this from previous values later\n",
    "\n",
    "#prop values are debug values\n",
    "if abs(Prop_Size_Test - Prop_Size_1) <= abs(Prop_Size_Test - Prop_Size_2):\n",
    "    kde_rpm = [2560, 3330, 4130, 4940, 5710, 6420, 7030] #Will have to update for different motor\n",
    "    prop = 1\n",
    "elif abs(Prop_Size_Test - Prop_Size_1) > abs(Prop_Size_Test - Prop_Size_2):\n",
    "    kde_rpm = [2140, 2960, 3690, 4340, 4930, 5250, 5830] #Will have to update for different motor\n",
    "    prop = 2\n",
    "#elif abs(Prop_Size_Test - Prop_Size_2) <= abs(Prop_Size_Test - Prop_Size_3):\n",
    "    #kde_rpm = [1580, 2050, 2570, 3120, 3660, 4170, 4630] #Will have to update for different motor\n",
    "    #prop = 2\n",
    "#elif abs(Prop_Size_Test - Prop_Size_2) > abs(Prop_Size_Test - Prop_Size_3):\n",
    "    #kde_rpm = [1430, 1940, 2470, 3010, 3500, 3960, 4370] #Will have to update for different motor\n",
    "    #prop = 3\n",
    "else:\n",
    "    print(\"XD\")\n",
    " \n",
    "\n",
    "Custom_Throttle = np.interp(apc_rpm, kde_rpm, Throttle)\n",
    "print(f'Approximate throttle value for propeller size {Prop_Size_Test}\\\" spinning at {apc_rpm} rpm is {Custom_Throttle:.02f}%')\n",
    "\n",
    "print(f'Debug: Utiliized prop value {prop} in KDE website')\n",
    "\n"
   ]
  },
  {
   "cell_type": "code",
   "execution_count": null,
   "metadata": {},
   "outputs": [],
   "source": []
  }
 ],
 "metadata": {
  "kernelspec": {
   "display_name": "Python 3",
   "language": "python",
   "name": "python3"
  },
  "language_info": {
   "codemirror_mode": {
    "name": "ipython",
    "version": 3
   },
   "file_extension": ".py",
   "mimetype": "text/x-python",
   "name": "python",
   "nbconvert_exporter": "python",
   "pygments_lexer": "ipython3",
   "version": "3.12.4"
  }
 },
 "nbformat": 4,
 "nbformat_minor": 4
}
